{
 "cells": [
  {
   "cell_type": "markdown",
   "id": "1c7ce41c-adcd-432f-8124-c6f29d390878",
   "metadata": {
    "tags": []
   },
   "source": [
    "# Problem 1"
   ]
  },
  {
   "cell_type": "code",
   "execution_count": 1,
   "id": "e0e8dc57-40af-462b-990c-aff4fb206d57",
   "metadata": {},
   "outputs": [],
   "source": [
    "import pandas as pd\n",
    "import numpy as np\n",
    "from tqdm import tqdm\n",
    "from collections import Counter\n",
    "\n",
    "from sklearn.metrics import mean_squared_error"
   ]
  },
  {
   "cell_type": "code",
   "execution_count": 2,
   "id": "016b2c46-bfd8-456b-aa4e-fa6470d6f48c",
   "metadata": {},
   "outputs": [],
   "source": [
    "data = np.loadtxt('u.data', delimiter='\\t', dtype = 'int64')"
   ]
  },
  {
   "cell_type": "code",
   "execution_count": 3,
   "id": "4bc434c9-af49-4233-bdc5-b038053cbac9",
   "metadata": {},
   "outputs": [
    {
     "data": {
      "text/plain": [
       "(100000, 4)"
      ]
     },
     "execution_count": 3,
     "metadata": {},
     "output_type": "execute_result"
    }
   ],
   "source": [
    "data.shape"
   ]
  },
  {
   "cell_type": "code",
   "execution_count": 4,
   "id": "b292d185-50ba-46b7-867e-82d2fe4d477a",
   "metadata": {},
   "outputs": [],
   "source": [
    "u_movie_counts = Counter(data[:,0])\n",
    "mov = Counter(data[:,1])\n",
    "n_users = len(u_movie_counts)\n",
    "n_movies = len(mov)"
   ]
  },
  {
   "cell_type": "code",
   "execution_count": 5,
   "id": "1bbd9341-e065-4bb2-8b2b-e843b7783307",
   "metadata": {},
   "outputs": [],
   "source": [
    "# find mean and variance for each user\n",
    "u_mean = {}\n",
    "u_sigma = {}\n",
    "for u in u_movie_counts.keys():\n",
    "    u_ratings = data[np.where(data[:,0]==u)[0],2]\n",
    "    u_mean[u] = np.sum(u_ratings)/u_movie_counts[u]\n",
    "    u_sigma[u] = (np.sum(np.square(u_ratings))/u_movie_counts[u]) - np.square(u_mean[u])"
   ]
  },
  {
   "cell_type": "code",
   "execution_count": 6,
   "id": "5f2d5f38-0f90-4223-8505-f59bf6fae101",
   "metadata": {},
   "outputs": [],
   "source": [
    "# normalize rating for each user, based on his mu and sigma\n",
    "norm_rating = {}\n",
    "for i, r in  enumerate(data[:,2]):\n",
    "    norm_rating[i] = (r - u_mean[u]) / u_sigma[u]"
   ]
  },
  {
   "cell_type": "code",
   "execution_count": 7,
   "id": "6b31759f-50e9-4a53-a5eb-6b25ada0dd97",
   "metadata": {},
   "outputs": [],
   "source": [
    "# user-movie rating matrix (n_user, n_movies)\n",
    "user_rating = np.zeros((n_users, n_movies))\n",
    "for idx in range(data.shape[0]):\n",
    "    u = data[idx,0]-1\n",
    "    m = data[idx,1]-1\n",
    "    user_rating[u][m] = norm_rating[idx]"
   ]
  },
  {
   "cell_type": "code",
   "execution_count": 8,
   "id": "02d4f2b1-47ed-478b-843f-85ecb044ed12",
   "metadata": {},
   "outputs": [
    {
     "name": "stderr",
     "output_type": "stream",
     "text": [
      "100%|██████████| 943/943 [00:18<00:00, 52.19it/s]\n"
     ]
    }
   ],
   "source": [
    "# similarity (persons)\n",
    "sim = np.zeros((n_users,n_users))\n",
    "for u1 in tqdm(range(n_users)):\n",
    "    for u2 in range(n_users):\n",
    "        r_ = np.sum(user_rating[u1]) * np.sum(user_rating[u2])\n",
    "        movie_count = np.count_nonzero(user_rating[u1] * user_rating[u2])\n",
    "        if movie_count != 0:\n",
    "            sim[u1][u2] = r_/movie_count"
   ]
  },
  {
   "cell_type": "code",
   "execution_count": 9,
   "id": "964046f0-efec-4d3b-bd9f-85b9c96314b4",
   "metadata": {},
   "outputs": [],
   "source": [
    "test_data = np.loadtxt('u1.test', delimiter = '\\t', dtype = 'int64')\n",
    "# sample 100 from test\n",
    "sample_data = np.random.randint(0, test_data.shape[0], 100)"
   ]
  },
  {
   "cell_type": "code",
   "execution_count": 10,
   "id": "73aa9cf8-ab5f-42e0-b1c0-25e68b009291",
   "metadata": {},
   "outputs": [],
   "source": [
    "from tqdm import tqdm\n",
    "\n",
    "def predict():\n",
    "    pred = {}\n",
    "    for idx in tqdm(sample_data):\n",
    "        rating_ = []\n",
    "        user = test_data[idx,0]\n",
    "        movie = test_data[idx,1]\n",
    "        neigh = sim[user].argsort()[::-1]\n",
    "        index = [np.where((data[:,0] == u) & (data[:,1] == movie))[0] for u in neigh]\n",
    "        for j in index:\n",
    "            if j != None:\n",
    "                i = j[0]\n",
    "                rating_.append(norm_rating[i] * sim[user][data[i][0]])\n",
    "        pred[idx] = u_mean[user] + ((np.sum(rating_) / np.sum(np.abs(sim[user][neigh]))) * u_sigma[user])\n",
    "    return pred"
   ]
  },
  {
   "cell_type": "code",
   "execution_count": 11,
   "id": "e697b959-7827-429f-9831-40082518314a",
   "metadata": {},
   "outputs": [],
   "source": [
    "y_true = test_data[sample_data, 2].astype('float')"
   ]
  },
  {
   "cell_type": "code",
   "execution_count": null,
   "id": "ae97e82e-6007-4d82-a367-d96de0c44cc6",
   "metadata": {},
   "outputs": [],
   "source": []
  },
  {
   "cell_type": "code",
   "execution_count": null,
   "id": "0057dfdd-16f4-4bd9-aef1-f8b4eff5f8da",
   "metadata": {},
   "outputs": [],
   "source": [
    "y_true"
   ]
  },
  {
   "cell_type": "code",
   "execution_count": 12,
   "id": "028d4b2f-05a7-450d-bcd7-964f2b2b4e69",
   "metadata": {},
   "outputs": [
    {
     "name": "stderr",
     "output_type": "stream",
     "text": [
      "  0%|          | 0/100 [00:00<?, ?it/s]/tmp/ipykernel_2612/1448224014.py:12: DeprecationWarning: The truth value of an empty array is ambiguous. Returning False, but in future this will result in an error. Use `array.size > 0` to check that an array is not empty.\n",
      "  if j != None:\n",
      "100%|██████████| 100/100 [00:22<00:00,  4.45it/s]\n"
     ]
    }
   ],
   "source": [
    "y_pred = predict()"
   ]
  },
  {
   "cell_type": "code",
   "execution_count": 13,
   "id": "7621a5f3-4171-4822-ba0a-9ee90bfdbf01",
   "metadata": {},
   "outputs": [
    {
     "data": {
      "text/plain": [
       "0.9609599977230774"
      ]
     },
     "execution_count": 13,
     "metadata": {},
     "output_type": "execute_result"
    }
   ],
   "source": [
    "error = mean_squared_error(y_true, list(y_pred.values()), squared = False)\n",
    "error"
   ]
  },
  {
   "cell_type": "code",
   "execution_count": null,
   "id": "0e820617-ce86-416f-8149-eff41d3f0a99",
   "metadata": {},
   "outputs": [],
   "source": []
  },
  {
   "cell_type": "code",
   "execution_count": null,
   "id": "f17984eb-cda2-4188-af87-a9f4c02f2404",
   "metadata": {},
   "outputs": [],
   "source": []
  }
 ],
 "metadata": {
  "kernelspec": {
   "display_name": "Python 3 (ipykernel)",
   "language": "python",
   "name": "python3"
  },
  "language_info": {
   "codemirror_mode": {
    "name": "ipython",
    "version": 3
   },
   "file_extension": ".py",
   "mimetype": "text/x-python",
   "name": "python",
   "nbconvert_exporter": "python",
   "pygments_lexer": "ipython3",
   "version": "3.9.12"
  }
 },
 "nbformat": 4,
 "nbformat_minor": 5
}
