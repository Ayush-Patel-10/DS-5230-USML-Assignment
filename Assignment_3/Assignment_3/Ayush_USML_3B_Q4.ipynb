{
  "nbformat": 4,
  "nbformat_minor": 0,
  "metadata": {
    "colab": {
      "provenance": []
    },
    "kernelspec": {
      "name": "python3",
      "display_name": "Python 3"
    },
    "language_info": {
      "name": "python"
    }
  },
  "cells": [
    {
      "cell_type": "code",
      "source": [
        "from google.colab import drive\n",
        "drive.mount('/content/drive')"
      ],
      "metadata": {
        "colab": {
          "base_uri": "https://localhost:8080/"
        },
        "id": "NTV_Lxtbc8k9",
        "outputId": "2b09e601-5c92-4bef-c517-c9db63c085ec"
      },
      "execution_count": 1,
      "outputs": [
        {
          "output_type": "stream",
          "name": "stdout",
          "text": [
            "Drive already mounted at /content/drive; to attempt to forcibly remount, call drive.mount(\"/content/drive\", force_remount=True).\n"
          ]
        }
      ]
    },
    {
      "cell_type": "code",
      "execution_count": 2,
      "metadata": {
        "id": "_ipAYBAkahBq"
      },
      "outputs": [],
      "source": [
        "import numpy as np\n",
        "from mnist import MNIST\n",
        "from sklearn.linear_model import LogisticRegression\n",
        "\n",
        "# Load MNIST\n",
        "mnist_loader = MNIST(\"/content/drive/MyDrive/MNIST\")\n",
        "mnist_loader.gz = True\n",
        "X_train, y_train = mnist_loader.load_training()\n",
        "X_test, y_test = mnist_loader.load_testing()\n",
        "X_train = np.array(X_train, dtype='float32') / 255\n",
        "y_train = np.array(y_train, dtype='int16')\n",
        "X_test = np.array(X_test, dtype='float32') / 255\n",
        "y_test = np.array(y_test, dtype='int16')"
      ]
    },
    {
      "cell_type": "code",
      "source": [
        "def compute_black(X, print_iterval):\n",
        "    \n",
        "    # init\n",
        "    black = []\n",
        "    \n",
        "    for idx in range(X.shape[0]):\n",
        "        \n",
        "        # init\n",
        "        b = np.empty((28,28))\n",
        "            \n",
        "        # Reshape image\n",
        "        x = X[idx].reshape((28,28))\n",
        "        \n",
        "        b[0, 0] = 1 if x[0, 0] == 0 else 0\n",
        "        \n",
        "        # Base case\n",
        "        for i in range(1, 28):\n",
        "            t = b[0, i - 1]\n",
        "            b[0, i] = t + 1 if x[0, i] == 0 else t\n",
        "            \n",
        "        # Recursive\n",
        "        for i in range(1, 28):\n",
        "            for j in range(28):\n",
        "                if j == 0:\n",
        "                    t = b[i - 1, j]\n",
        "                    b[i, j] = t + 1 if x[i, j] == 0 else t\n",
        "                else:\n",
        "                    t = b[i - 1, j] + b[i, j - 1] - b[i - 1, j - 1]\n",
        "                    b[i, j] = t + 1 if x[i, j] == 0 else t\n",
        "                    \n",
        "        black.append(b)\n",
        "        \n",
        "    return np.array(black, dtype = 'int')"
      ],
      "metadata": {
        "id": "RjHCLhSld4lD"
      },
      "execution_count": 3,
      "outputs": []
    },
    {
      "cell_type": "code",
      "source": [
        "k = 100\n",
        "np.random.seed(42)\n",
        "rect = []\n",
        "\n",
        "while len(rect) != k:\n",
        "    \n",
        "    # Randomly pick top left point, length, and breadth\n",
        "    tl = np.random.randint(low = 5, high = 23, size = 2)\n",
        "    b = np.random.randint(low = 5, high = 28 - tl[1])\n",
        "    l = np.random.randint(low = 5, high = 28 - tl[0])\n",
        "    if b * l < 130 or b * l > 170:\n",
        "        continue\n",
        "    \n",
        "    # Other corners\n",
        "    tr = np.array([tl[0] + l, tl[1]])\n",
        "    bl = np.array([tl[0], tl[1] + b])\n",
        "    br = np.array([tl[0] + l, tl[1] + b])\n",
        "    \n",
        "    # Mid points\n",
        "    vt = np.array([tl[0] + l//2, tl[1]])\n",
        "    vb = np.array([tl[0] + l//2, bl[1]])\n",
        "    hl = np.array([tl[0], tl[1] + b//2])\n",
        "    hr = np.array([tr[0], tr[1] + b//2])\n",
        "\n",
        "    rect.append([tl, tr, bl, br, vt, vb, hl, hr])"
      ],
      "metadata": {
        "id": "F8HVdc8Nf28P"
      },
      "execution_count": 4,
      "outputs": []
    },
    {
      "cell_type": "code",
      "source": [
        "def HAAR(X, b, print_interval):\n",
        "    _X = np.empty((X.shape[0], 200), dtype = 'int16')\n",
        "    for i in range(X.shape[0]):\n",
        "        \n",
        "        # Extract image\n",
        "        img = b[i]\n",
        "        \n",
        "        # Compute features\n",
        "        for j in range(k):\n",
        "            tl, tr, bl, br, vt, vb, hl, hr = rect[j]\n",
        "            \n",
        "            top = img[hr[0], hr[1]] - img[hl[0], hl[1]] - img[tr[0], tr[1]] + img[tl[0], tl[1]]\n",
        "            bottom = img[br[0], br[1]] - img[bl[0], bl[1]] - img[hr[0], hr[1]] + img[hl[0], hl[1]]\n",
        "            v_score = top - bottom\n",
        "            \n",
        "            left = img[vb[0], vb[1]] - img[bl[0], bl[1]] - img[vt[0], vt[1]] + img[tl[0], tl[1]]\n",
        "            right = img[br[0], br[1]] - img[vb[0], vb[1]] - img[tr[0], tr[1]] + img[vt[0], vt[1]]\n",
        "            h_score = left - right\n",
        "\n",
        "            _X[i][j*2] = v_score\n",
        "            _X[i][(j*2)+1] = h_score\n",
        "\n",
        "    return _X"
      ],
      "metadata": {
        "id": "GCcfMRgGgIMW"
      },
      "execution_count": 5,
      "outputs": []
    },
    {
      "cell_type": "code",
      "source": [
        "X_train_black = compute_black(X_train, 10000)"
      ],
      "metadata": {
        "id": "eaLEMtgRfqB7"
      },
      "execution_count": 6,
      "outputs": []
    },
    {
      "cell_type": "code",
      "source": [
        "haar_train = HAAR(X_train, X_train_black, 10000)"
      ],
      "metadata": {
        "id": "G5X-ICX5gKUx"
      },
      "execution_count": 7,
      "outputs": []
    },
    {
      "cell_type": "code",
      "source": [
        "X_test_black = compute_black(X_test, 1000)"
      ],
      "metadata": {
        "id": "32rPsJw6gTOz"
      },
      "execution_count": 8,
      "outputs": []
    },
    {
      "cell_type": "code",
      "source": [
        "haar_test = HAAR(X_test, X_test_black, 1000)"
      ],
      "metadata": {
        "id": "uv7sFUNWgW2u"
      },
      "execution_count": 9,
      "outputs": []
    },
    {
      "cell_type": "code",
      "source": [
        "LR = LogisticRegression(penalty = 'l2', solver = 'lbfgs', max_iter = 1000, n_jobs = -1)"
      ],
      "metadata": {
        "id": "t0fQbiC2gMP2"
      },
      "execution_count": 10,
      "outputs": []
    },
    {
      "cell_type": "code",
      "source": [
        "LR.fit(haar_train, y_train)"
      ],
      "metadata": {
        "colab": {
          "base_uri": "https://localhost:8080/",
          "height": 74
        },
        "id": "eVsZasi3gPYt",
        "outputId": "fb2c472b-3541-48b6-c1b4-6e7c4425db65"
      },
      "execution_count": 11,
      "outputs": [
        {
          "output_type": "execute_result",
          "data": {
            "text/plain": [
              "LogisticRegression(max_iter=1000, n_jobs=-1)"
            ],
            "text/html": [
              "<style>#sk-container-id-1 {color: black;background-color: white;}#sk-container-id-1 pre{padding: 0;}#sk-container-id-1 div.sk-toggleable {background-color: white;}#sk-container-id-1 label.sk-toggleable__label {cursor: pointer;display: block;width: 100%;margin-bottom: 0;padding: 0.3em;box-sizing: border-box;text-align: center;}#sk-container-id-1 label.sk-toggleable__label-arrow:before {content: \"▸\";float: left;margin-right: 0.25em;color: #696969;}#sk-container-id-1 label.sk-toggleable__label-arrow:hover:before {color: black;}#sk-container-id-1 div.sk-estimator:hover label.sk-toggleable__label-arrow:before {color: black;}#sk-container-id-1 div.sk-toggleable__content {max-height: 0;max-width: 0;overflow: hidden;text-align: left;background-color: #f0f8ff;}#sk-container-id-1 div.sk-toggleable__content pre {margin: 0.2em;color: black;border-radius: 0.25em;background-color: #f0f8ff;}#sk-container-id-1 input.sk-toggleable__control:checked~div.sk-toggleable__content {max-height: 200px;max-width: 100%;overflow: auto;}#sk-container-id-1 input.sk-toggleable__control:checked~label.sk-toggleable__label-arrow:before {content: \"▾\";}#sk-container-id-1 div.sk-estimator input.sk-toggleable__control:checked~label.sk-toggleable__label {background-color: #d4ebff;}#sk-container-id-1 div.sk-label input.sk-toggleable__control:checked~label.sk-toggleable__label {background-color: #d4ebff;}#sk-container-id-1 input.sk-hidden--visually {border: 0;clip: rect(1px 1px 1px 1px);clip: rect(1px, 1px, 1px, 1px);height: 1px;margin: -1px;overflow: hidden;padding: 0;position: absolute;width: 1px;}#sk-container-id-1 div.sk-estimator {font-family: monospace;background-color: #f0f8ff;border: 1px dotted black;border-radius: 0.25em;box-sizing: border-box;margin-bottom: 0.5em;}#sk-container-id-1 div.sk-estimator:hover {background-color: #d4ebff;}#sk-container-id-1 div.sk-parallel-item::after {content: \"\";width: 100%;border-bottom: 1px solid gray;flex-grow: 1;}#sk-container-id-1 div.sk-label:hover label.sk-toggleable__label {background-color: #d4ebff;}#sk-container-id-1 div.sk-serial::before {content: \"\";position: absolute;border-left: 1px solid gray;box-sizing: border-box;top: 0;bottom: 0;left: 50%;z-index: 0;}#sk-container-id-1 div.sk-serial {display: flex;flex-direction: column;align-items: center;background-color: white;padding-right: 0.2em;padding-left: 0.2em;position: relative;}#sk-container-id-1 div.sk-item {position: relative;z-index: 1;}#sk-container-id-1 div.sk-parallel {display: flex;align-items: stretch;justify-content: center;background-color: white;position: relative;}#sk-container-id-1 div.sk-item::before, #sk-container-id-1 div.sk-parallel-item::before {content: \"\";position: absolute;border-left: 1px solid gray;box-sizing: border-box;top: 0;bottom: 0;left: 50%;z-index: -1;}#sk-container-id-1 div.sk-parallel-item {display: flex;flex-direction: column;z-index: 1;position: relative;background-color: white;}#sk-container-id-1 div.sk-parallel-item:first-child::after {align-self: flex-end;width: 50%;}#sk-container-id-1 div.sk-parallel-item:last-child::after {align-self: flex-start;width: 50%;}#sk-container-id-1 div.sk-parallel-item:only-child::after {width: 0;}#sk-container-id-1 div.sk-dashed-wrapped {border: 1px dashed gray;margin: 0 0.4em 0.5em 0.4em;box-sizing: border-box;padding-bottom: 0.4em;background-color: white;}#sk-container-id-1 div.sk-label label {font-family: monospace;font-weight: bold;display: inline-block;line-height: 1.2em;}#sk-container-id-1 div.sk-label-container {text-align: center;}#sk-container-id-1 div.sk-container {/* jupyter's `normalize.less` sets `[hidden] { display: none; }` but bootstrap.min.css set `[hidden] { display: none !important; }` so we also need the `!important` here to be able to override the default hidden behavior on the sphinx rendered scikit-learn.org. See: https://github.com/scikit-learn/scikit-learn/issues/21755 */display: inline-block !important;position: relative;}#sk-container-id-1 div.sk-text-repr-fallback {display: none;}</style><div id=\"sk-container-id-1\" class=\"sk-top-container\"><div class=\"sk-text-repr-fallback\"><pre>LogisticRegression(max_iter=1000, n_jobs=-1)</pre><b>In a Jupyter environment, please rerun this cell to show the HTML representation or trust the notebook. <br />On GitHub, the HTML representation is unable to render, please try loading this page with nbviewer.org.</b></div><div class=\"sk-container\" hidden><div class=\"sk-item\"><div class=\"sk-estimator sk-toggleable\"><input class=\"sk-toggleable__control sk-hidden--visually\" id=\"sk-estimator-id-1\" type=\"checkbox\" checked><label for=\"sk-estimator-id-1\" class=\"sk-toggleable__label sk-toggleable__label-arrow\">LogisticRegression</label><div class=\"sk-toggleable__content\"><pre>LogisticRegression(max_iter=1000, n_jobs=-1)</pre></div></div></div></div></div>"
            ]
          },
          "metadata": {},
          "execution_count": 11
        }
      ]
    },
    {
      "cell_type": "code",
      "source": [
        "y_train_pred = LR.predict(haar_train)\n",
        "print('Training accuracy:', sum(y_train_pred == y_train)/len(y_train))"
      ],
      "metadata": {
        "colab": {
          "base_uri": "https://localhost:8080/"
        },
        "id": "YFam2wKLgRey",
        "outputId": "f099333f-4e92-47ea-dd87-0a3aba128a8b"
      },
      "execution_count": 12,
      "outputs": [
        {
          "output_type": "stream",
          "name": "stdout",
          "text": [
            "Training accuracy: 0.9178166666666666\n"
          ]
        }
      ]
    },
    {
      "cell_type": "code",
      "source": [
        "y_test_pred = LR.predict(haar_test)\n",
        "print('Testing accuracy:', sum(y_test_pred == y_test)/len(y_test))"
      ],
      "metadata": {
        "colab": {
          "base_uri": "https://localhost:8080/"
        },
        "id": "zEMbMmsFgYlY",
        "outputId": "941b04e3-de71-42e2-be9c-1e78d535dd4c"
      },
      "execution_count": 13,
      "outputs": [
        {
          "output_type": "stream",
          "name": "stdout",
          "text": [
            "Testing accuracy: 0.9165\n"
          ]
        }
      ]
    },
    {
      "cell_type": "code",
      "source": [],
      "metadata": {
        "id": "kVulbE71oqno"
      },
      "execution_count": 13,
      "outputs": []
    }
  ]
}